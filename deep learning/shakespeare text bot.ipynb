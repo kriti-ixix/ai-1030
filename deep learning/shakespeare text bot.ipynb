{
  "nbformat": 4,
  "nbformat_minor": 0,
  "metadata": {
    "colab": {
      "name": "shakespeare text bot.ipynb",
      "provenance": [],
      "collapsed_sections": []
    },
    "kernelspec": {
      "name": "python3",
      "display_name": "Python 3"
    },
    "language_info": {
      "name": "python"
    },
    "accelerator": "GPU"
  },
  "cells": [
    {
      "cell_type": "code",
      "source": [
        "from google.colab import drive\n",
        "drive.mount('/content/drive')"
      ],
      "metadata": {
        "colab": {
          "base_uri": "https://localhost:8080/"
        },
        "id": "FFByzOut6Hjq",
        "outputId": "fcce53fb-3735-4522-f289-c504256139d7"
      },
      "execution_count": 1,
      "outputs": [
        {
          "output_type": "stream",
          "name": "stdout",
          "text": [
            "Mounted at /content/drive\n"
          ]
        }
      ]
    },
    {
      "cell_type": "markdown",
      "source": [
        "### Importing the libraries"
      ],
      "metadata": {
        "id": "gFsd_iDD9o2C"
      }
    },
    {
      "cell_type": "code",
      "source": [
        "import tensorflow as tf\n",
        "tf.__version__"
      ],
      "metadata": {
        "colab": {
          "base_uri": "https://localhost:8080/",
          "height": 35
        },
        "id": "OVsYcSb46giG",
        "outputId": "7aa86025-b392-4b2d-cdc1-62d71665e681"
      },
      "execution_count": 2,
      "outputs": [
        {
          "output_type": "execute_result",
          "data": {
            "text/plain": [
              "'2.8.0'"
            ],
            "application/vnd.google.colaboratory.intrinsic+json": {
              "type": "string"
            }
          },
          "metadata": {},
          "execution_count": 2
        }
      ]
    },
    {
      "cell_type": "code",
      "source": [
        "import numpy as np\n",
        "import seaborn as sns\n",
        "import pandas as pd\n",
        "import matplotlib.pyplot as plt"
      ],
      "metadata": {
        "id": "66qXAEcZ84nq"
      },
      "execution_count": 3,
      "outputs": []
    },
    {
      "cell_type": "markdown",
      "source": [
        "### Reading the Data"
      ],
      "metadata": {
        "id": "oa4Euh3c9wGM"
      }
    },
    {
      "cell_type": "code",
      "source": [
        "path_to_file = \"/content/drive/MyDrive/shakespeare.txt\""
      ],
      "metadata": {
        "id": "P5iaSDgg9Erg"
      },
      "execution_count": 4,
      "outputs": []
    },
    {
      "cell_type": "code",
      "source": [
        "text = open(path_to_file).read()"
      ],
      "metadata": {
        "id": "XUJr37Vz9mlf"
      },
      "execution_count": 5,
      "outputs": []
    },
    {
      "cell_type": "code",
      "source": [
        "print(text[:500])"
      ],
      "metadata": {
        "colab": {
          "base_uri": "https://localhost:8080/"
        },
        "id": "_39BJUB6-LRd",
        "outputId": "e5f074ad-661a-4324-f2b9-4e26a743bc0c"
      },
      "execution_count": 8,
      "outputs": [
        {
          "output_type": "stream",
          "name": "stdout",
          "text": [
            "\n",
            "                     1\n",
            "  From fairest creatures we desire increase,\n",
            "  That thereby beauty's rose might never die,\n",
            "  But as the riper should by time decease,\n",
            "  His tender heir might bear his memory:\n",
            "  But thou contracted to thine own bright eyes,\n",
            "  Feed'st thy light's flame with self-substantial fuel,\n",
            "  Making a famine where abundance lies,\n",
            "  Thy self thy foe, to thy sweet self too cruel:\n",
            "  Thou that art now the world's fresh ornament,\n",
            "  And only herald to the gaudy spring,\n",
            "  Within thine own bu\n"
          ]
        }
      ]
    },
    {
      "cell_type": "markdown",
      "source": [
        "### Encoding the Text Data"
      ],
      "metadata": {
        "id": "G_S-aTcO_kUk"
      }
    },
    {
      "cell_type": "code",
      "source": [
        "len(text)"
      ],
      "metadata": {
        "colab": {
          "base_uri": "https://localhost:8080/"
        },
        "id": "X7oCOW9Y-Q70",
        "outputId": "b7b24301-84c4-4d59-d0a2-e9fcc8a3ada1"
      },
      "execution_count": 9,
      "outputs": [
        {
          "output_type": "execute_result",
          "data": {
            "text/plain": [
              "5445609"
            ]
          },
          "metadata": {},
          "execution_count": 9
        }
      ]
    },
    {
      "cell_type": "code",
      "source": [
        "vocab = sorted(set(text))"
      ],
      "metadata": {
        "id": "mp17gNSj_w40"
      },
      "execution_count": 12,
      "outputs": []
    },
    {
      "cell_type": "code",
      "source": [
        "print(vocab)"
      ],
      "metadata": {
        "colab": {
          "base_uri": "https://localhost:8080/"
        },
        "id": "WXIhHogX_5Fd",
        "outputId": "3c6de129-8c36-49a7-bc3e-6f0292c4edc7"
      },
      "execution_count": 13,
      "outputs": [
        {
          "output_type": "stream",
          "name": "stdout",
          "text": [
            "['\\n', ' ', '!', '\"', '&', \"'\", '(', ')', ',', '-', '.', '0', '1', '2', '3', '4', '5', '6', '7', '8', '9', ':', ';', '<', '>', '?', 'A', 'B', 'C', 'D', 'E', 'F', 'G', 'H', 'I', 'J', 'K', 'L', 'M', 'N', 'O', 'P', 'Q', 'R', 'S', 'T', 'U', 'V', 'W', 'X', 'Y', 'Z', '[', ']', '_', '`', 'a', 'b', 'c', 'd', 'e', 'f', 'g', 'h', 'i', 'j', 'k', 'l', 'm', 'n', 'o', 'p', 'q', 'r', 's', 't', 'u', 'v', 'w', 'x', 'y', 'z', '|', '}']\n"
          ]
        }
      ]
    },
    {
      "cell_type": "code",
      "source": [
        "list(enumerate(vocab))"
      ],
      "metadata": {
        "colab": {
          "base_uri": "https://localhost:8080/"
        },
        "id": "eaq5jgQ8Byo7",
        "outputId": "6a127c86-4928-403b-ee47-0cc661304272"
      },
      "execution_count": 16,
      "outputs": [
        {
          "output_type": "execute_result",
          "data": {
            "text/plain": [
              "[(0, '\\n'),\n",
              " (1, ' '),\n",
              " (2, '!'),\n",
              " (3, '\"'),\n",
              " (4, '&'),\n",
              " (5, \"'\"),\n",
              " (6, '('),\n",
              " (7, ')'),\n",
              " (8, ','),\n",
              " (9, '-'),\n",
              " (10, '.'),\n",
              " (11, '0'),\n",
              " (12, '1'),\n",
              " (13, '2'),\n",
              " (14, '3'),\n",
              " (15, '4'),\n",
              " (16, '5'),\n",
              " (17, '6'),\n",
              " (18, '7'),\n",
              " (19, '8'),\n",
              " (20, '9'),\n",
              " (21, ':'),\n",
              " (22, ';'),\n",
              " (23, '<'),\n",
              " (24, '>'),\n",
              " (25, '?'),\n",
              " (26, 'A'),\n",
              " (27, 'B'),\n",
              " (28, 'C'),\n",
              " (29, 'D'),\n",
              " (30, 'E'),\n",
              " (31, 'F'),\n",
              " (32, 'G'),\n",
              " (33, 'H'),\n",
              " (34, 'I'),\n",
              " (35, 'J'),\n",
              " (36, 'K'),\n",
              " (37, 'L'),\n",
              " (38, 'M'),\n",
              " (39, 'N'),\n",
              " (40, 'O'),\n",
              " (41, 'P'),\n",
              " (42, 'Q'),\n",
              " (43, 'R'),\n",
              " (44, 'S'),\n",
              " (45, 'T'),\n",
              " (46, 'U'),\n",
              " (47, 'V'),\n",
              " (48, 'W'),\n",
              " (49, 'X'),\n",
              " (50, 'Y'),\n",
              " (51, 'Z'),\n",
              " (52, '['),\n",
              " (53, ']'),\n",
              " (54, '_'),\n",
              " (55, '`'),\n",
              " (56, 'a'),\n",
              " (57, 'b'),\n",
              " (58, 'c'),\n",
              " (59, 'd'),\n",
              " (60, 'e'),\n",
              " (61, 'f'),\n",
              " (62, 'g'),\n",
              " (63, 'h'),\n",
              " (64, 'i'),\n",
              " (65, 'j'),\n",
              " (66, 'k'),\n",
              " (67, 'l'),\n",
              " (68, 'm'),\n",
              " (69, 'n'),\n",
              " (70, 'o'),\n",
              " (71, 'p'),\n",
              " (72, 'q'),\n",
              " (73, 'r'),\n",
              " (74, 's'),\n",
              " (75, 't'),\n",
              " (76, 'u'),\n",
              " (77, 'v'),\n",
              " (78, 'w'),\n",
              " (79, 'x'),\n",
              " (80, 'y'),\n",
              " (81, 'z'),\n",
              " (82, '|'),\n",
              " (83, '}')]"
            ]
          },
          "metadata": {},
          "execution_count": 16
        }
      ]
    },
    {
      "cell_type": "code",
      "source": [
        "char_to_index = {c : i for i, c in enumerate(vocab)}"
      ],
      "metadata": {
        "id": "TGjhDUbsALVv"
      },
      "execution_count": 14,
      "outputs": []
    },
    {
      "cell_type": "code",
      "source": [
        "char_to_index"
      ],
      "metadata": {
        "colab": {
          "base_uri": "https://localhost:8080/"
        },
        "id": "U8NgiD1NByEF",
        "outputId": "6fbcbf36-d5d7-47f8-9468-f04d3e9452f8"
      },
      "execution_count": 17,
      "outputs": [
        {
          "output_type": "execute_result",
          "data": {
            "text/plain": [
              "{'\\n': 0,\n",
              " ' ': 1,\n",
              " '!': 2,\n",
              " '\"': 3,\n",
              " '&': 4,\n",
              " \"'\": 5,\n",
              " '(': 6,\n",
              " ')': 7,\n",
              " ',': 8,\n",
              " '-': 9,\n",
              " '.': 10,\n",
              " '0': 11,\n",
              " '1': 12,\n",
              " '2': 13,\n",
              " '3': 14,\n",
              " '4': 15,\n",
              " '5': 16,\n",
              " '6': 17,\n",
              " '7': 18,\n",
              " '8': 19,\n",
              " '9': 20,\n",
              " ':': 21,\n",
              " ';': 22,\n",
              " '<': 23,\n",
              " '>': 24,\n",
              " '?': 25,\n",
              " 'A': 26,\n",
              " 'B': 27,\n",
              " 'C': 28,\n",
              " 'D': 29,\n",
              " 'E': 30,\n",
              " 'F': 31,\n",
              " 'G': 32,\n",
              " 'H': 33,\n",
              " 'I': 34,\n",
              " 'J': 35,\n",
              " 'K': 36,\n",
              " 'L': 37,\n",
              " 'M': 38,\n",
              " 'N': 39,\n",
              " 'O': 40,\n",
              " 'P': 41,\n",
              " 'Q': 42,\n",
              " 'R': 43,\n",
              " 'S': 44,\n",
              " 'T': 45,\n",
              " 'U': 46,\n",
              " 'V': 47,\n",
              " 'W': 48,\n",
              " 'X': 49,\n",
              " 'Y': 50,\n",
              " 'Z': 51,\n",
              " '[': 52,\n",
              " ']': 53,\n",
              " '_': 54,\n",
              " '`': 55,\n",
              " 'a': 56,\n",
              " 'b': 57,\n",
              " 'c': 58,\n",
              " 'd': 59,\n",
              " 'e': 60,\n",
              " 'f': 61,\n",
              " 'g': 62,\n",
              " 'h': 63,\n",
              " 'i': 64,\n",
              " 'j': 65,\n",
              " 'k': 66,\n",
              " 'l': 67,\n",
              " 'm': 68,\n",
              " 'n': 69,\n",
              " 'o': 70,\n",
              " 'p': 71,\n",
              " 'q': 72,\n",
              " 'r': 73,\n",
              " 's': 74,\n",
              " 't': 75,\n",
              " 'u': 76,\n",
              " 'v': 77,\n",
              " 'w': 78,\n",
              " 'x': 79,\n",
              " 'y': 80,\n",
              " 'z': 81,\n",
              " '|': 82,\n",
              " '}': 83}"
            ]
          },
          "metadata": {},
          "execution_count": 17
        }
      ]
    },
    {
      "cell_type": "code",
      "source": [
        "index_to_char = np.array(vocab)\n",
        "index_to_char"
      ],
      "metadata": {
        "colab": {
          "base_uri": "https://localhost:8080/"
        },
        "id": "SZsavvFmB_xa",
        "outputId": "2c94480d-e7cf-4ab0-84c4-f5681f033a32"
      },
      "execution_count": 18,
      "outputs": [
        {
          "output_type": "execute_result",
          "data": {
            "text/plain": [
              "array(['\\n', ' ', '!', '\"', '&', \"'\", '(', ')', ',', '-', '.', '0', '1',\n",
              "       '2', '3', '4', '5', '6', '7', '8', '9', ':', ';', '<', '>', '?',\n",
              "       'A', 'B', 'C', 'D', 'E', 'F', 'G', 'H', 'I', 'J', 'K', 'L', 'M',\n",
              "       'N', 'O', 'P', 'Q', 'R', 'S', 'T', 'U', 'V', 'W', 'X', 'Y', 'Z',\n",
              "       '[', ']', '_', '`', 'a', 'b', 'c', 'd', 'e', 'f', 'g', 'h', 'i',\n",
              "       'j', 'k', 'l', 'm', 'n', 'o', 'p', 'q', 'r', 's', 't', 'u', 'v',\n",
              "       'w', 'x', 'y', 'z', '|', '}'], dtype='<U1')"
            ]
          },
          "metadata": {},
          "execution_count": 18
        }
      ]
    },
    {
      "cell_type": "markdown",
      "source": [
        "### Encoding the Text"
      ],
      "metadata": {
        "id": "uYEtoG2LE7ko"
      }
    },
    {
      "cell_type": "code",
      "source": [
        "encoded_text = np.array([char_to_index[c] for c in text])"
      ],
      "metadata": {
        "id": "wWJGCWPUE1ma"
      },
      "execution_count": 21,
      "outputs": []
    },
    {
      "cell_type": "code",
      "source": [
        "print(text[:500])"
      ],
      "metadata": {
        "colab": {
          "base_uri": "https://localhost:8080/"
        },
        "id": "zvD1ZtuUFKr2",
        "outputId": "744837c0-bd11-495d-f04f-f69f2441dfaa"
      },
      "execution_count": 22,
      "outputs": [
        {
          "output_type": "stream",
          "name": "stdout",
          "text": [
            "\n",
            "                     1\n",
            "  From fairest creatures we desire increase,\n",
            "  That thereby beauty's rose might never die,\n",
            "  But as the riper should by time decease,\n",
            "  His tender heir might bear his memory:\n",
            "  But thou contracted to thine own bright eyes,\n",
            "  Feed'st thy light's flame with self-substantial fuel,\n",
            "  Making a famine where abundance lies,\n",
            "  Thy self thy foe, to thy sweet self too cruel:\n",
            "  Thou that art now the world's fresh ornament,\n",
            "  And only herald to the gaudy spring,\n",
            "  Within thine own bu\n"
          ]
        }
      ]
    },
    {
      "cell_type": "code",
      "source": [
        "print(encoded_text[:500])"
      ],
      "metadata": {
        "colab": {
          "base_uri": "https://localhost:8080/"
        },
        "id": "mfcT9mZiGtkh",
        "outputId": "7ef5064c-4d7c-4727-ce68-38ff5d534adc"
      },
      "execution_count": 23,
      "outputs": [
        {
          "output_type": "stream",
          "name": "stdout",
          "text": [
            "[ 0  1  1  1  1  1  1  1  1  1  1  1  1  1  1  1  1  1  1  1  1  1 12  0\n",
            "  1  1 31 73 70 68  1 61 56 64 73 60 74 75  1 58 73 60 56 75 76 73 60 74\n",
            "  1 78 60  1 59 60 74 64 73 60  1 64 69 58 73 60 56 74 60  8  0  1  1 45\n",
            " 63 56 75  1 75 63 60 73 60 57 80  1 57 60 56 76 75 80  5 74  1 73 70 74\n",
            " 60  1 68 64 62 63 75  1 69 60 77 60 73  1 59 64 60  8  0  1  1 27 76 75\n",
            "  1 56 74  1 75 63 60  1 73 64 71 60 73  1 74 63 70 76 67 59  1 57 80  1\n",
            " 75 64 68 60  1 59 60 58 60 56 74 60  8  0  1  1 33 64 74  1 75 60 69 59\n",
            " 60 73  1 63 60 64 73  1 68 64 62 63 75  1 57 60 56 73  1 63 64 74  1 68\n",
            " 60 68 70 73 80 21  0  1  1 27 76 75  1 75 63 70 76  1 58 70 69 75 73 56\n",
            " 58 75 60 59  1 75 70  1 75 63 64 69 60  1 70 78 69  1 57 73 64 62 63 75\n",
            "  1 60 80 60 74  8  0  1  1 31 60 60 59  5 74 75  1 75 63 80  1 67 64 62\n",
            " 63 75  5 74  1 61 67 56 68 60  1 78 64 75 63  1 74 60 67 61  9 74 76 57\n",
            " 74 75 56 69 75 64 56 67  1 61 76 60 67  8  0  1  1 38 56 66 64 69 62  1\n",
            " 56  1 61 56 68 64 69 60  1 78 63 60 73 60  1 56 57 76 69 59 56 69 58 60\n",
            "  1 67 64 60 74  8  0  1  1 45 63 80  1 74 60 67 61  1 75 63 80  1 61 70\n",
            " 60  8  1 75 70  1 75 63 80  1 74 78 60 60 75  1 74 60 67 61  1 75 70 70\n",
            "  1 58 73 76 60 67 21  0  1  1 45 63 70 76  1 75 63 56 75  1 56 73 75  1\n",
            " 69 70 78  1 75 63 60  1 78 70 73 67 59  5 74  1 61 73 60 74 63  1 70 73\n",
            " 69 56 68 60 69 75  8  0  1  1 26 69 59  1 70 69 67 80  1 63 60 73 56 67\n",
            " 59  1 75 70  1 75 63 60  1 62 56 76 59 80  1 74 71 73 64 69 62  8  0  1\n",
            "  1 48 64 75 63 64 69  1 75 63 64 69 60  1 70 78 69  1 57 76]\n"
          ]
        }
      ]
    },
    {
      "cell_type": "code",
      "source": [
        ""
      ],
      "metadata": {
        "id": "eZL_XZN5GxFw"
      },
      "execution_count": null,
      "outputs": []
    }
  ]
}