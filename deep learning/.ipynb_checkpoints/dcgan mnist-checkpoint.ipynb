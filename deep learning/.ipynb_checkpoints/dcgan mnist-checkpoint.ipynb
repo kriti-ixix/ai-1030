{
 "cells": [
  {
   "cell_type": "code",
   "execution_count": 1,
   "id": "24910f99-56e7-4bb1-9503-5ee62eda87fa",
   "metadata": {},
   "outputs": [],
   "source": [
    "import numpy as np\n",
    "import matplotlib.pyplot as plt"
   ]
  },
  {
   "cell_type": "code",
   "execution_count": 7,
   "id": "6878c335-8351-41d7-8da4-a39dca603992",
   "metadata": {},
   "outputs": [],
   "source": [
    "from tensorflow.keras.datasets import mnist"
   ]
  },
  {
   "cell_type": "code",
   "execution_count": 8,
   "id": "6dcf3d26-433d-48f4-b82a-6783a99fab7d",
   "metadata": {},
   "outputs": [],
   "source": [
    "(X_train, y_train), (X_test, y_test) = mnist.load_data()"
   ]
  },
  {
   "cell_type": "code",
   "execution_count": 9,
   "id": "15bbfcd2-126a-47c8-8e0b-bf6dbb556304",
   "metadata": {},
   "outputs": [],
   "source": [
    "only_zeroes = X_train[y_train == 0]"
   ]
  },
  {
   "cell_type": "code",
   "execution_count": 10,
   "id": "fe1ca12e-7bf4-4c10-8c9f-325d7519ca3d",
   "metadata": {},
   "outputs": [
    {
     "data": {
      "text/plain": [
       "(5923, 28, 28)"
      ]
     },
     "execution_count": 10,
     "metadata": {},
     "output_type": "execute_result"
    }
   ],
   "source": [
    "only_zeroes.shape"
   ]
  },
  {
   "cell_type": "code",
   "execution_count": 11,
   "id": "3f728a65-ddd2-40af-bf5d-b8a0a46f6816",
   "metadata": {},
   "outputs": [
    {
     "data": {
      "text/plain": [
       "<matplotlib.image.AxesImage at 0x7fdc58929d60>"
      ]
     },
     "execution_count": 11,
     "metadata": {},
     "output_type": "execute_result"
    },
    {
     "data": {
      "image/png": "[encoded data removed]",
      "text/plain": [
       "<Figure size 432x288 with 1 Axes>"
      ]
     },
     "metadata": {
      "needs_background": "light"
     },
     "output_type": "display_data"
    }
   ],
   "source": [
    "plt.imshow(only_zeroes[10])"
   ]
  },
  {
   "cell_type": "code",
   "execution_count": 16,
   "id": "0635e9c1-d78c-4d43-ba5b-474774a8e708",
   "metadata": {},
   "outputs": [],
   "source": [
    "only_zeroes = only_zeroes/255"
   ]
  },
  {
   "cell_type": "code",
   "execution_count": 17,
   "id": "e325f937-91d4-4851-8249-96e0eaec6612",
   "metadata": {},
   "outputs": [],
   "source": [
    "only_zeroes = only_zeroes.reshape(-1, 28, 28, 1) * 2. - 1."
   ]
  },
  {
   "cell_type": "code",
   "execution_count": 18,
   "id": "fdd5238e-cd54-4838-9f72-be662b044d7e",
   "metadata": {},
   "outputs": [
    {
     "data": {
      "text/plain": [
       "-1.0"
      ]
     },
     "execution_count": 18,
     "metadata": {},
     "output_type": "execute_result"
    }
   ],
   "source": [
    "only_zeroes.min()"
   ]
  },
  {
   "cell_type": "code",
   "execution_count": 19,
   "id": "f026b4fc-1cde-494d-9d5c-bcc7b2c9ca42",
   "metadata": {},
   "outputs": [
    {
     "data": {
      "text/plain": [
       "1.0"
      ]
     },
     "execution_count": 19,
     "metadata": {},
     "output_type": "execute_result"
    }
   ],
   "source": [
    "only_zeroes.max()"
   ]
  },
  {
   "cell_type": "code",
   "execution_count": 20,
   "id": "ff8daf24-318e-4e9c-af7f-6bcbbab64b69",
   "metadata": {},
   "outputs": [],
   "source": [
    "import tensorflow as tf\n",
    "from tensorflow.keras.models import Sequential\n",
    "from tensorflow.keras.layers import Dense, Reshape, Dropout, LeakyReLU, Flatten, BatchNormalization, Conv2D, Conv2DTranspose"
   ]
  },
  {
   "cell_type": "code",
   "execution_count": 21,
   "id": "0ac72ca3-dc6e-49ba-a0f6-5cf846dcafe3",
   "metadata": {},
   "outputs": [],
   "source": [
    "np.random.seed(42)\n",
    "tf.random.set_seed(42)\n",
    "codings_size = 100"
   ]
  },
  {
   "cell_type": "code",
   "execution_count": 27,
   "id": "ebde4b86-fdf0-4598-91af-9fbd0e8cd541",
   "metadata": {},
   "outputs": [],
   "source": [
    "generator = Sequential()\n",
    "\n",
    "generator.add(Dense(7 * 7 * 128, input_shape=[codings_size]))\n",
    "generator.add(Reshape([7, 7, 128]))\n",
    "\n",
    "generator.add(BatchNormalization())\n",
    "generator.add(Conv2DTranspose(64, kernel_size=5, strides=2, padding=\"same\", activation='relu'))\n",
    "\n",
    "generator.add(BatchNormalization())\n",
    "generator.add(Conv2DTranspose(1, kernel_size=5, strides=2, padding=\"same\", activation='tanh'))"
   ]
  },
  {
   "cell_type": "code",
   "execution_count": 25,
   "id": "b21284d1-e512-4add-b466-71f67c23f719",
   "metadata": {},
   "outputs": [],
   "source": [
    "discriminator = Sequential()\n",
    "\n",
    "discriminator.add(Conv2D(64, kernel_size=5, strides=2, padding=\"same\", activation=LeakyReLU(0.3), input_shape=[28, 28, 1]))\n",
    "discriminator.add(Dropout(0.5))\n",
    "\n",
    "discriminator.add(Conv2D(128, kernel_size=5, strides=2, padding=\"same\", activation=LeakyReLU(0.3)))\n",
    "discriminator.add(Dropout(0.5))\n",
    "\n",
    "discriminator.add(Flatten())\n",
    "discriminator.add(Dense(1, activation=\"sigmoid\"))\n",
    "\n",
    "discriminator.compile(loss=\"binary_crossentropy\", optimizer=\"adam\")"
   ]
  },
  {
   "cell_type": "code",
   "execution_count": 28,
   "id": "3ccffdb7-dd12-4e59-b4d6-819e6a6bf09f",
   "metadata": {},
   "outputs": [],
   "source": [
    "GAN = Sequential([generator, discriminator])"
   ]
  },
  {
   "cell_type": "code",
   "execution_count": 29,
   "id": "bc41ff71-6b28-4a80-aeef-d31d9551400a",
   "metadata": {},
   "outputs": [],
   "source": [
    "discriminator.trainable = False"
   ]
  },
  {
   "cell_type": "code",
   "execution_count": 30,
   "id": "c195610a-3931-4143-a0ed-a40c1e2f06bc",
   "metadata": {},
   "outputs": [],
   "source": [
    "GAN.compile(loss=\"binary_crossentropy\", optimizer=\"adam\")"
   ]
  },
  {
   "cell_type": "code",
   "execution_count": 31,
   "id": "cb7cff35-f172-484b-9295-9d986c296cd5",
   "metadata": {},
   "outputs": [
    {
     "name": "stdout",
     "output_type": "stream",
     "text": [
      "Model: \"sequential_5\"\n",
      "_________________________________________________________________\n",
      " Layer (type)                Output Shape              Param #   \n",
      "=================================================================\n",
      " dense_4 (Dense)             (None, 6272)              633472    \n",
      "                                                                 \n",
      " reshape_2 (Reshape)         (None, 7, 7, 128)         0         \n",
      "                                                                 \n",
      " batch_normalization_4 (Batc  (None, 7, 7, 128)        512       \n",
      " hNormalization)                                                 \n",
      "                                                                 \n",
      " conv2d_transpose_4 (Conv2DT  (None, 14, 14, 64)       204864    \n",
      " ranspose)                                                       \n",
      "                                                                 \n",
      " batch_normalization_5 (Batc  (None, 14, 14, 64)       256       \n",
      " hNormalization)                                                 \n",
      "                                                                 \n",
      " conv2d_transpose_5 (Conv2DT  (None, 28, 28, 1)        1601      \n",
      " ranspose)                                                       \n",
      "                                                                 \n",
      "=================================================================\n",
      "Total params: 840,705\n",
      "Trainable params: 840,321\n",
      "Non-trainable params: 384\n",
      "_________________________________________________________________\n"
     ]
    }
   ],
   "source": [
    "GAN.layers[0].summary()"
   ]
  },
  {
   "cell_type": "code",
   "execution_count": 32,
   "id": "646572cf-4d4d-43f7-8720-5fb9ca857cc2",
   "metadata": {},
   "outputs": [
    {
     "name": "stdout",
     "output_type": "stream",
     "text": [
      "Model: \"sequential_3\"\n",
      "_________________________________________________________________\n",
      " Layer (type)                Output Shape              Param #   \n",
      "=================================================================\n",
      " conv2d_2 (Conv2D)           (None, 14, 14, 64)        1664      \n",
      "                                                                 \n",
      " dropout_2 (Dropout)         (None, 14, 14, 64)        0         \n",
      "                                                                 \n",
      " conv2d_3 (Conv2D)           (None, 7, 7, 128)         204928    \n",
      "                                                                 \n",
      " dropout_3 (Dropout)         (None, 7, 7, 128)         0         \n",
      "                                                                 \n",
      " flatten_1 (Flatten)         (None, 6272)              0         \n",
      "                                                                 \n",
      " dense_3 (Dense)             (None, 1)                 6273      \n",
      "                                                                 \n",
      "=================================================================\n",
      "Total params: 212,865\n",
      "Trainable params: 0\n",
      "Non-trainable params: 212,865\n",
      "_________________________________________________________________\n"
     ]
    }
   ],
   "source": [
    "GAN.layers[1].summary()"
   ]
  },
  {
   "cell_type": "code",
   "execution_count": null,
   "id": "19ccf39c-2e5e-4663-b3fa-cb0a0d26d193",
   "metadata": {},
   "outputs": [],
   "source": []
  }
 ],
 "metadata": {
  "kernelspec": {
   "display_name": "Python 3 (ipykernel)",
   "language": "python",
   "name": "python3"
  },
  "language_info": {
   "codemirror_mode": {
    "name": "ipython",
    "version": 3
   },
   "file_extension": ".py",
   "mimetype": "text/x-python",
   "name": "python",
   "nbconvert_exporter": "python",
   "pygments_lexer": "ipython3",
   "version": "3.9.7"
  }
 },
 "nbformat": 4,
 "nbformat_minor": 5
}
