{
 "cells": [
  {
   "cell_type": "code",
   "execution_count": 1,
   "id": "bca055a1-2168-450f-96bb-c627b4ef81cb",
   "metadata": {},
   "outputs": [],
   "source": [
    "import numpy as np\n",
    "import pandas as pd\n",
    "import matplotlib.pyplot as plt"
   ]
  },
  {
   "cell_type": "code",
   "execution_count": 2,
   "id": "a1f3c26e-fef0-426e-a4e8-c369b931e7f1",
   "metadata": {},
   "outputs": [],
   "source": [
    "x = np.linspace(0, 50, 501)"
   ]
  },
  {
   "cell_type": "code",
   "execution_count": 3,
   "id": "d30d6098-555b-44e2-aa3b-a101e06974f2",
   "metadata": {},
   "outputs": [],
   "source": [
    "y = np.sin(x)"
   ]
  },
  {
   "cell_type": "code",
   "execution_count": 4,
   "id": "522519e2-c47c-4ac9-92c8-4178ceb52fef",
   "metadata": {},
   "outputs": [
    {
     "data": {
      "text/plain": [
       "[<matplotlib.lines.Line2D at 0x7fc236372a00>]"
      ]
     },
     "execution_count": 4,
     "metadata": {},
     "output_type": "execute_result"
    },
    {
     "data": {
      "image/png": "[encoded data removed]",
      "text/plain": [
       "<Figure size 432x288 with 1 Axes>"
      ]
     },
     "metadata": {
      "needs_background": "light"
     },
     "output_type": "display_data"
    }
   ],
   "source": [
    "plt.plot(x, y)"
   ]
  },
  {
   "cell_type": "code",
   "execution_count": 5,
   "id": "3248d498-c9b3-46f4-8ed2-81a9391f7b4b",
   "metadata": {},
   "outputs": [
    {
     "data": {
      "text/html": [
       "<div>\n",
       "<style scoped>\n",
       "    .dataframe tbody tr th:only-of-type {\n",
       "        vertical-align: middle;\n",
       "    }\n",
       "\n",
       "    .dataframe tbody tr th {\n",
       "        vertical-align: top;\n",
       "    }\n",
       "\n",
       "    .dataframe thead th {\n",
       "        text-align: right;\n",
       "    }\n",
       "</style>\n",
       "<table border=\"1\" class=\"dataframe\">\n",
       "  <thead>\n",
       "    <tr style=\"text-align: right;\">\n",
       "      <th></th>\n",
       "      <th>Sine</th>\n",
       "    </tr>\n",
       "  </thead>\n",
       "  <tbody>\n",
       "    <tr>\n",
       "      <th>0.0</th>\n",
       "      <td>0.000000</td>\n",
       "    </tr>\n",
       "    <tr>\n",
       "      <th>0.1</th>\n",
       "      <td>0.099833</td>\n",
       "    </tr>\n",
       "    <tr>\n",
       "      <th>0.2</th>\n",
       "      <td>0.198669</td>\n",
       "    </tr>\n",
       "    <tr>\n",
       "      <th>0.3</th>\n",
       "      <td>0.295520</td>\n",
       "    </tr>\n",
       "    <tr>\n",
       "      <th>0.4</th>\n",
       "      <td>0.389418</td>\n",
       "    </tr>\n",
       "  </tbody>\n",
       "</table>\n",
       "</div>"
      ],
      "text/plain": [
       "         Sine\n",
       "0.0  0.000000\n",
       "0.1  0.099833\n",
       "0.2  0.198669\n",
       "0.3  0.295520\n",
       "0.4  0.389418"
      ]
     },
     "execution_count": 5,
     "metadata": {},
     "output_type": "execute_result"
    }
   ],
   "source": [
    "df = pd.DataFrame(y, index = x, columns=['Sine'])\n",
    "df.head()"
   ]
  },
  {
   "cell_type": "code",
   "execution_count": 6,
   "id": "88cd50e4-f55d-4022-999b-39d84a2059ee",
   "metadata": {},
   "outputs": [
    {
     "data": {
      "text/plain": [
       "501"
      ]
     },
     "execution_count": 6,
     "metadata": {},
     "output_type": "execute_result"
    }
   ],
   "source": [
    "len(df)"
   ]
  },
  {
   "cell_type": "code",
   "execution_count": 7,
   "id": "b7a8b6de-e855-4a6b-93d1-933f2883af69",
   "metadata": {},
   "outputs": [],
   "source": [
    "test_percent = 0.2"
   ]
  },
  {
   "cell_type": "code",
   "execution_count": 8,
   "id": "efbcc046-54f2-4fca-bea6-cc23b18ae112",
   "metadata": {},
   "outputs": [
    {
     "data": {
      "text/plain": [
       "100.2"
      ]
     },
     "execution_count": 8,
     "metadata": {},
     "output_type": "execute_result"
    }
   ],
   "source": [
    "501 * (20/100)"
   ]
  },
  {
   "cell_type": "code",
   "execution_count": 9,
   "id": "3185b581-d1e5-4638-86e6-ec35f5aa019c",
   "metadata": {},
   "outputs": [],
   "source": [
    "train_df = df.iloc[:400]\n",
    "test_df = df.iloc[400:]"
   ]
  },
  {
   "cell_type": "code",
   "execution_count": 10,
   "id": "13137d68-e1df-4d4e-bd58-625ec716c46a",
   "metadata": {},
   "outputs": [
    {
     "data": {
      "text/html": [
       "<div>\n",
       "<style scoped>\n",
       "    .dataframe tbody tr th:only-of-type {\n",
       "        vertical-align: middle;\n",
       "    }\n",
       "\n",
       "    .dataframe tbody tr th {\n",
       "        vertical-align: top;\n",
       "    }\n",
       "\n",
       "    .dataframe thead th {\n",
       "        text-align: right;\n",
       "    }\n",
       "</style>\n",
       "<table border=\"1\" class=\"dataframe\">\n",
       "  <thead>\n",
       "    <tr style=\"text-align: right;\">\n",
       "      <th></th>\n",
       "      <th>Sine</th>\n",
       "    </tr>\n",
       "  </thead>\n",
       "  <tbody>\n",
       "    <tr>\n",
       "      <th>0.0</th>\n",
       "      <td>0.000000</td>\n",
       "    </tr>\n",
       "    <tr>\n",
       "      <th>0.1</th>\n",
       "      <td>0.099833</td>\n",
       "    </tr>\n",
       "    <tr>\n",
       "      <th>0.2</th>\n",
       "      <td>0.198669</td>\n",
       "    </tr>\n",
       "    <tr>\n",
       "      <th>0.3</th>\n",
       "      <td>0.295520</td>\n",
       "    </tr>\n",
       "    <tr>\n",
       "      <th>0.4</th>\n",
       "      <td>0.389418</td>\n",
       "    </tr>\n",
       "  </tbody>\n",
       "</table>\n",
       "</div>"
      ],
      "text/plain": [
       "         Sine\n",
       "0.0  0.000000\n",
       "0.1  0.099833\n",
       "0.2  0.198669\n",
       "0.3  0.295520\n",
       "0.4  0.389418"
      ]
     },
     "execution_count": 10,
     "metadata": {},
     "output_type": "execute_result"
    }
   ],
   "source": [
    "train_df.head()"
   ]
  },
  {
   "cell_type": "code",
   "execution_count": 11,
   "id": "a9add986-bd96-483c-9624-51b155aa29bc",
   "metadata": {},
   "outputs": [
    {
     "data": {
      "text/html": [
       "<div>\n",
       "<style scoped>\n",
       "    .dataframe tbody tr th:only-of-type {\n",
       "        vertical-align: middle;\n",
       "    }\n",
       "\n",
       "    .dataframe tbody tr th {\n",
       "        vertical-align: top;\n",
       "    }\n",
       "\n",
       "    .dataframe thead th {\n",
       "        text-align: right;\n",
       "    }\n",
       "</style>\n",
       "<table border=\"1\" class=\"dataframe\">\n",
       "  <thead>\n",
       "    <tr style=\"text-align: right;\">\n",
       "      <th></th>\n",
       "      <th>Sine</th>\n",
       "    </tr>\n",
       "  </thead>\n",
       "  <tbody>\n",
       "    <tr>\n",
       "      <th>40.0</th>\n",
       "      <td>0.745113</td>\n",
       "    </tr>\n",
       "    <tr>\n",
       "      <th>40.1</th>\n",
       "      <td>0.674808</td>\n",
       "    </tr>\n",
       "    <tr>\n",
       "      <th>40.2</th>\n",
       "      <td>0.597760</td>\n",
       "    </tr>\n",
       "    <tr>\n",
       "      <th>40.3</th>\n",
       "      <td>0.514740</td>\n",
       "    </tr>\n",
       "    <tr>\n",
       "      <th>40.4</th>\n",
       "      <td>0.426577</td>\n",
       "    </tr>\n",
       "  </tbody>\n",
       "</table>\n",
       "</div>"
      ],
      "text/plain": [
       "          Sine\n",
       "40.0  0.745113\n",
       "40.1  0.674808\n",
       "40.2  0.597760\n",
       "40.3  0.514740\n",
       "40.4  0.426577"
      ]
     },
     "execution_count": 11,
     "metadata": {},
     "output_type": "execute_result"
    }
   ],
   "source": [
    "test_df.head()"
   ]
  },
  {
   "cell_type": "code",
   "execution_count": 12,
   "id": "c4e50d9c-25e2-43d1-ba1a-13e423dbfcec",
   "metadata": {},
   "outputs": [],
   "source": [
    "from sklearn.preprocessing import MinMaxScaler"
   ]
  },
  {
   "cell_type": "code",
   "execution_count": 13,
   "id": "cf672aaf-af74-4cf1-92cf-70b2ec703749",
   "metadata": {},
   "outputs": [],
   "source": [
    "scaler = MinMaxScaler()"
   ]
  },
  {
   "cell_type": "code",
   "execution_count": 14,
   "id": "a5d01f26-84d4-4801-88ac-283403946f09",
   "metadata": {},
   "outputs": [
    {
     "data": {
      "text/plain": [
       "MinMaxScaler()"
      ]
     },
     "execution_count": 14,
     "metadata": {},
     "output_type": "execute_result"
    }
   ],
   "source": [
    "scaler.fit(train_df)"
   ]
  },
  {
   "cell_type": "code",
   "execution_count": 15,
   "id": "e02b4d9c-59be-4006-9c29-8f526bf05053",
   "metadata": {},
   "outputs": [],
   "source": [
    "train = scaler.transform(train_df)\n",
    "test = scaler.transform(test_df)"
   ]
  },
  {
   "cell_type": "code",
   "execution_count": 16,
   "id": "ac85ff0d-93c9-41d1-b679-c3424cd0bca6",
   "metadata": {},
   "outputs": [],
   "source": [
    "from tensorflow.keras.preprocessing.sequence import TimeseriesGenerator"
   ]
  },
  {
   "cell_type": "code",
   "execution_count": 17,
   "id": "4e8fdbcf-940e-4cd7-814c-e8e60d6f71c5",
   "metadata": {},
   "outputs": [],
   "source": [
    "generator = TimeseriesGenerator(train, train, length = 2, batch_size = 1)"
   ]
  },
  {
   "cell_type": "code",
   "execution_count": 18,
   "id": "6ba1e52a-a7d6-47fe-9e19-16ed490ef01f",
   "metadata": {},
   "outputs": [
    {
     "data": {
      "text/plain": [
       "(array([[[0.49999912],\n",
       "         [0.54991622]]]),\n",
       " array([[0.59933458]]))"
      ]
     },
     "execution_count": 18,
     "metadata": {},
     "output_type": "execute_result"
    }
   ],
   "source": [
    "generator[0]"
   ]
  },
  {
   "cell_type": "code",
   "execution_count": 19,
   "id": "07be2bfe-594d-4152-91c2-35a611a15e8f",
   "metadata": {},
   "outputs": [
    {
     "data": {
      "text/plain": [
       "(array([[[0.54991622],\n",
       "         [0.59933458]]]),\n",
       " array([[0.64776041]]))"
      ]
     },
     "execution_count": 19,
     "metadata": {},
     "output_type": "execute_result"
    }
   ],
   "source": [
    "generator[1]"
   ]
  },
  {
   "cell_type": "code",
   "execution_count": 20,
   "id": "3068047c-fd06-45bf-b131-e9844d6af2ef",
   "metadata": {},
   "outputs": [],
   "source": [
    "generator = TimeseriesGenerator(train, train, length = 50, batch_size = 1)"
   ]
  },
  {
   "cell_type": "code",
   "execution_count": 21,
   "id": "22ea5a61-1e23-43a3-9ac1-68df139433dd",
   "metadata": {},
   "outputs": [],
   "source": [
    "from tensorflow.keras.models import Sequential\n",
    "from tensorflow.keras.layers import Dense, SimpleRNN"
   ]
  },
  {
   "cell_type": "code",
   "execution_count": 22,
   "id": "966824d4-81d8-4e2e-b528-c495bca65451",
   "metadata": {},
   "outputs": [],
   "source": [
    "length = 50\n",
    "n_features = 1"
   ]
  },
  {
   "cell_type": "code",
   "execution_count": 23,
   "id": "26102e7a-b0b4-4374-a276-8bc5faa0598b",
   "metadata": {},
   "outputs": [
    {
     "name": "stderr",
     "output_type": "stream",
     "text": [
      "2022-05-04 16:26:02.285746: I tensorflow/core/platform/cpu_feature_guard.cc:151] This TensorFlow binary is optimized with oneAPI Deep Neural Network Library (oneDNN) to use the following CPU instructions in performance-critical operations:  AVX2 FMA\n",
      "To enable them in other operations, rebuild TensorFlow with the appropriate compiler flags.\n"
     ]
    }
   ],
   "source": [
    "model = Sequential()\n",
    "\n",
    "model.add(SimpleRNN(50, input_shape=(50, 1)))\n",
    "model.add(Dense(1))\n",
    "\n",
    "model.compile(optimizer='adam', loss='mse')"
   ]
  },
  {
   "cell_type": "code",
   "execution_count": 24,
   "id": "f75e370c-73f9-441f-8bc6-d1ebe94a9697",
   "metadata": {},
   "outputs": [
    {
     "name": "stdout",
     "output_type": "stream",
     "text": [
      "Model: \"sequential\"\n",
      "_________________________________________________________________\n",
      " Layer (type)                Output Shape              Param #   \n",
      "=================================================================\n",
      " simple_rnn (SimpleRNN)      (None, 50)                2600      \n",
      "                                                                 \n",
      " dense (Dense)               (None, 1)                 51        \n",
      "                                                                 \n",
      "=================================================================\n",
      "Total params: 2,651\n",
      "Trainable params: 2,651\n",
      "Non-trainable params: 0\n",
      "_________________________________________________________________\n"
     ]
    }
   ],
   "source": [
    "model.summary()"
   ]
  },
  {
   "cell_type": "code",
   "execution_count": 25,
   "id": "e55ad560-ed87-4e3b-914b-bdfc8ea911a7",
   "metadata": {},
   "outputs": [
    {
     "name": "stdout",
     "output_type": "stream",
     "text": [
      "Epoch 1/5\n",
      "350/350 [==============================] - 6s 10ms/step - loss: 0.0016\n",
      "Epoch 2/5\n",
      "350/350 [==============================] - 4s 10ms/step - loss: 3.8097e-04\n",
      "Epoch 3/5\n",
      "350/350 [==============================] - 4s 10ms/step - loss: 3.6590e-04\n",
      "Epoch 4/5\n",
      "350/350 [==============================] - 7s 20ms/step - loss: 2.4936e-05\n",
      "Epoch 5/5\n",
      "350/350 [==============================] - 6s 17ms/step - loss: 7.7172e-05\n"
     ]
    },
    {
     "data": {
      "text/plain": [
       "<keras.callbacks.History at 0x7fc23d9c2c40>"
      ]
     },
     "execution_count": 25,
     "metadata": {},
     "output_type": "execute_result"
    }
   ],
   "source": [
    "model.fit(generator, epochs = 5)"
   ]
  },
  {
   "cell_type": "code",
   "execution_count": 26,
   "id": "49145670-6185-48ed-a58f-13577dec42bf",
   "metadata": {},
   "outputs": [],
   "source": [
    "loss_df = pd.DataFrame(model.history.history)"
   ]
  },
  {
   "cell_type": "code",
   "execution_count": 27,
   "id": "2ee30abd-162d-4592-8145-eea3781beb83",
   "metadata": {},
   "outputs": [
    {
     "data": {
      "text/html": [
       "<div>\n",
       "<style scoped>\n",
       "    .dataframe tbody tr th:only-of-type {\n",
       "        vertical-align: middle;\n",
       "    }\n",
       "\n",
       "    .dataframe tbody tr th {\n",
       "        vertical-align: top;\n",
       "    }\n",
       "\n",
       "    .dataframe thead th {\n",
       "        text-align: right;\n",
       "    }\n",
       "</style>\n",
       "<table border=\"1\" class=\"dataframe\">\n",
       "  <thead>\n",
       "    <tr style=\"text-align: right;\">\n",
       "      <th></th>\n",
       "      <th>loss</th>\n",
       "    </tr>\n",
       "  </thead>\n",
       "  <tbody>\n",
       "    <tr>\n",
       "      <th>0</th>\n",
       "      <td>0.001642</td>\n",
       "    </tr>\n",
       "    <tr>\n",
       "      <th>1</th>\n",
       "      <td>0.000381</td>\n",
       "    </tr>\n",
       "    <tr>\n",
       "      <th>2</th>\n",
       "      <td>0.000366</td>\n",
       "    </tr>\n",
       "    <tr>\n",
       "      <th>3</th>\n",
       "      <td>0.000025</td>\n",
       "    </tr>\n",
       "    <tr>\n",
       "      <th>4</th>\n",
       "      <td>0.000077</td>\n",
       "    </tr>\n",
       "  </tbody>\n",
       "</table>\n",
       "</div>"
      ],
      "text/plain": [
       "       loss\n",
       "0  0.001642\n",
       "1  0.000381\n",
       "2  0.000366\n",
       "3  0.000025\n",
       "4  0.000077"
      ]
     },
     "execution_count": 27,
     "metadata": {},
     "output_type": "execute_result"
    }
   ],
   "source": [
    "loss_df.head()"
   ]
  },
  {
   "cell_type": "code",
   "execution_count": 28,
   "id": "d07c1620-a6b9-496e-bc3c-fb1e089787c7",
   "metadata": {},
   "outputs": [
    {
     "data": {
      "text/plain": [
       "<AxesSubplot:>"
      ]
     },
     "execution_count": 28,
     "metadata": {},
     "output_type": "execute_result"
    },
    {
     "data": {
      "image/png": "[encoded data removed]",
      "text/plain": [
       "<Figure size 432x288 with 1 Axes>"
      ]
     },
     "metadata": {
      "needs_background": "light"
     },
     "output_type": "display_data"
    }
   ],
   "source": [
    "loss_df.plot()"
   ]
  },
  {
   "cell_type": "code",
   "execution_count": 29,
   "id": "adcde483-fba4-4d2c-b357-ede77caea57f",
   "metadata": {},
   "outputs": [],
   "source": [
    "first_batch = train[-50:]"
   ]
  },
  {
   "cell_type": "code",
   "execution_count": 30,
   "id": "6acf2836-6cc2-41d2-b26f-884fd8896275",
   "metadata": {},
   "outputs": [
    {
     "data": {
      "text/plain": [
       "(50, 1)"
      ]
     },
     "execution_count": 30,
     "metadata": {},
     "output_type": "execute_result"
    }
   ],
   "source": [
    "first_batch.shape"
   ]
  },
  {
   "cell_type": "code",
   "execution_count": 31,
   "id": "23c798cf-91e1-4ce9-ae16-71db25d0c6b9",
   "metadata": {},
   "outputs": [],
   "source": [
    "first_batch = first_batch.reshape(1, length, n_features)"
   ]
  },
  {
   "cell_type": "code",
   "execution_count": 32,
   "id": "a7a00bde-9e8d-4bf7-9484-cd05127479e0",
   "metadata": {},
   "outputs": [
    {
     "data": {
      "text/plain": [
       "(1, 50, 1)"
      ]
     },
     "execution_count": 32,
     "metadata": {},
     "output_type": "execute_result"
    }
   ],
   "source": [
    "first_batch.shape"
   ]
  },
  {
   "cell_type": "code",
   "execution_count": 33,
   "id": "262bb8d2-0dc7-45e1-8258-0623c6d0d666",
   "metadata": {},
   "outputs": [
    {
     "data": {
      "text/plain": [
       "array([[0.8744025]], dtype=float32)"
      ]
     },
     "execution_count": 33,
     "metadata": {},
     "output_type": "execute_result"
    }
   ],
   "source": [
    "model.predict(first_batch)"
   ]
  },
  {
   "cell_type": "code",
   "execution_count": 34,
   "id": "c74c551c-d6c8-4fd8-9da6-6a6790362559",
   "metadata": {},
   "outputs": [
    {
     "data": {
      "text/plain": [
       "101"
      ]
     },
     "execution_count": 34,
     "metadata": {},
     "output_type": "execute_result"
    }
   ],
   "source": [
    "len(test)"
   ]
  },
  {
   "cell_type": "code",
   "execution_count": 35,
   "id": "d3b49384-f82f-416c-b993-8c77e64d0a1b",
   "metadata": {},
   "outputs": [],
   "source": [
    "test_predictions = []\n",
    "first_batch = train[-length:]\n",
    "current_batch = first_batch.reshape(1, length, n_features)\n",
    "\n",
    "for i in range(len(test)):\n",
    "    current_prediction = model.predict(current_batch)[0]\n",
    "    test_predictions.append(current_prediction)\n",
    "    current_batch = np.append(current_batch[:, 1:, :], [[current_prediction]], axis = 1)"
   ]
  },
  {
   "cell_type": "code",
   "execution_count": 36,
   "id": "bc75cf7d-7c24-43c2-9fad-8a9e9b05b468",
   "metadata": {},
   "outputs": [
    {
     "data": {
      "text/plain": [
       "101"
      ]
     },
     "execution_count": 36,
     "metadata": {},
     "output_type": "execute_result"
    }
   ],
   "source": [
    "len(test_predictions)"
   ]
  },
  {
   "cell_type": "code",
   "execution_count": 37,
   "id": "c6c63d19-ac59-454d-846e-bed846aab24c",
   "metadata": {},
   "outputs": [],
   "source": [
    "true_predictions = scaler.inverse_transform(test_predictions)"
   ]
  },
  {
   "cell_type": "code",
   "execution_count": 38,
   "id": "aa04f7b3-27e5-4da0-a3cf-6526d847b801",
   "metadata": {},
   "outputs": [
    {
     "data": {
      "text/html": [
       "<div>\n",
       "<style scoped>\n",
       "    .dataframe tbody tr th:only-of-type {\n",
       "        vertical-align: middle;\n",
       "    }\n",
       "\n",
       "    .dataframe tbody tr th {\n",
       "        vertical-align: top;\n",
       "    }\n",
       "\n",
       "    .dataframe thead th {\n",
       "        text-align: right;\n",
       "    }\n",
       "</style>\n",
       "<table border=\"1\" class=\"dataframe\">\n",
       "  <thead>\n",
       "    <tr style=\"text-align: right;\">\n",
       "      <th></th>\n",
       "      <th>Sine</th>\n",
       "    </tr>\n",
       "  </thead>\n",
       "  <tbody>\n",
       "    <tr>\n",
       "      <th>40.0</th>\n",
       "      <td>0.745113</td>\n",
       "    </tr>\n",
       "    <tr>\n",
       "      <th>40.1</th>\n",
       "      <td>0.674808</td>\n",
       "    </tr>\n",
       "    <tr>\n",
       "      <th>40.2</th>\n",
       "      <td>0.597760</td>\n",
       "    </tr>\n",
       "    <tr>\n",
       "      <th>40.3</th>\n",
       "      <td>0.514740</td>\n",
       "    </tr>\n",
       "    <tr>\n",
       "      <th>40.4</th>\n",
       "      <td>0.426577</td>\n",
       "    </tr>\n",
       "  </tbody>\n",
       "</table>\n",
       "</div>"
      ],
      "text/plain": [
       "          Sine\n",
       "40.0  0.745113\n",
       "40.1  0.674808\n",
       "40.2  0.597760\n",
       "40.3  0.514740\n",
       "40.4  0.426577"
      ]
     },
     "execution_count": 38,
     "metadata": {},
     "output_type": "execute_result"
    }
   ],
   "source": [
    "test_df.head()"
   ]
  },
  {
   "cell_type": "code",
   "execution_count": 39,
   "id": "887da8e0-0925-4bf7-8b74-c21ee7b30aad",
   "metadata": {},
   "outputs": [
    {
     "name": "stderr",
     "output_type": "stream",
     "text": [
      "/var/folders/4y/pcdt74h51_x2zz4w3hlpvzxh0000gn/T/ipykernel_14492/493039931.py:1: SettingWithCopyWarning: \n",
      "A value is trying to be set on a copy of a slice from a DataFrame.\n",
      "Try using .loc[row_indexer,col_indexer] = value instead\n",
      "\n",
      "See the caveats in the documentation: https://pandas.pydata.org/pandas-docs/stable/user_guide/indexing.html#returning-a-view-versus-a-copy\n",
      "  test_df[\"RNN Predictions\"] = true_predictions\n"
     ]
    }
   ],
   "source": [
    "test_df[\"RNN Predictions\"] = true_predictions"
   ]
  },
  {
   "cell_type": "code",
   "execution_count": 40,
   "id": "10cbd0ef-0465-4123-9aea-00061d99f7f1",
   "metadata": {},
   "outputs": [
    {
     "data": {
      "text/html": [
       "<div>\n",
       "<style scoped>\n",
       "    .dataframe tbody tr th:only-of-type {\n",
       "        vertical-align: middle;\n",
       "    }\n",
       "\n",
       "    .dataframe tbody tr th {\n",
       "        vertical-align: top;\n",
       "    }\n",
       "\n",
       "    .dataframe thead th {\n",
       "        text-align: right;\n",
       "    }\n",
       "</style>\n",
       "<table border=\"1\" class=\"dataframe\">\n",
       "  <thead>\n",
       "    <tr style=\"text-align: right;\">\n",
       "      <th></th>\n",
       "      <th>Sine</th>\n",
       "      <th>RNN Predictions</th>\n",
       "    </tr>\n",
       "  </thead>\n",
       "  <tbody>\n",
       "    <tr>\n",
       "      <th>40.0</th>\n",
       "      <td>0.745113</td>\n",
       "      <td>0.748801</td>\n",
       "    </tr>\n",
       "    <tr>\n",
       "      <th>40.1</th>\n",
       "      <td>0.674808</td>\n",
       "      <td>0.679656</td>\n",
       "    </tr>\n",
       "    <tr>\n",
       "      <th>40.2</th>\n",
       "      <td>0.597760</td>\n",
       "      <td>0.604447</td>\n",
       "    </tr>\n",
       "    <tr>\n",
       "      <th>40.3</th>\n",
       "      <td>0.514740</td>\n",
       "      <td>0.524474</td>\n",
       "    </tr>\n",
       "    <tr>\n",
       "      <th>40.4</th>\n",
       "      <td>0.426577</td>\n",
       "      <td>0.437632</td>\n",
       "    </tr>\n",
       "  </tbody>\n",
       "</table>\n",
       "</div>"
      ],
      "text/plain": [
       "          Sine  RNN Predictions\n",
       "40.0  0.745113         0.748801\n",
       "40.1  0.674808         0.679656\n",
       "40.2  0.597760         0.604447\n",
       "40.3  0.514740         0.524474\n",
       "40.4  0.426577         0.437632"
      ]
     },
     "execution_count": 40,
     "metadata": {},
     "output_type": "execute_result"
    }
   ],
   "source": [
    "test_df.head()"
   ]
  },
  {
   "cell_type": "code",
   "execution_count": 41,
   "id": "ac451295-5b16-4da8-9dd3-d49fc27ddcf5",
   "metadata": {},
   "outputs": [
    {
     "data": {
      "text/plain": [
       "<AxesSubplot:>"
      ]
     },
     "execution_count": 41,
     "metadata": {},
     "output_type": "execute_result"
    },
    {
     "data": {
      "image/png": "[encoded data removed]",
      "text/plain": [
       "<Figure size 432x288 with 1 Axes>"
      ]
     },
     "metadata": {
      "needs_background": "light"
     },
     "output_type": "display_data"
    }
   ],
   "source": [
    "test_df.plot()"
   ]
  },
  {
   "cell_type": "code",
   "execution_count": 42,
   "id": "d31cae10-c378-47b6-8e5f-c5236a714518",
   "metadata": {},
   "outputs": [],
   "source": [
    "from tensorflow.keras.layers import LSTM"
   ]
  },
  {
   "cell_type": "code",
   "execution_count": 43,
   "id": "10f1d32d-9692-49af-9341-ee74076ae0af",
   "metadata": {},
   "outputs": [],
   "source": [
    "from tensorflow.keras.callbacks import EarlyStopping"
   ]
  },
  {
   "cell_type": "code",
   "execution_count": 48,
   "id": "977acd89-47b9-4305-89dc-cf7c6e3d812d",
   "metadata": {},
   "outputs": [],
   "source": [
    "early_stop = EarlyStopping(patience=2)"
   ]
  },
  {
   "cell_type": "code",
   "execution_count": 49,
   "id": "bf24ad1d-5efe-4e40-becf-39773b388755",
   "metadata": {},
   "outputs": [],
   "source": [
    "length = 40\n",
    "\n",
    "generator = TimeseriesGenerator(train, train, length=length, batch_size=1)\n",
    "\n",
    "test_generator = TimeseriesGenerator(test, test, length=length, batch_size=1)"
   ]
  },
  {
   "cell_type": "code",
   "execution_count": 50,
   "id": "ce4fb4db-3146-4771-a796-9f7d5de90c8b",
   "metadata": {},
   "outputs": [],
   "source": [
    "model = Sequential()\n",
    "\n",
    "model.add(LSTM(50, input_shape=(length, 1)))\n",
    "model.add(Dense(1))\n",
    "\n",
    "model.compile(optimizer='adam', loss='mse')"
   ]
  },
  {
   "cell_type": "code",
   "execution_count": 51,
   "id": "0fe9847c-c682-490d-927a-7b70279f1f75",
   "metadata": {},
   "outputs": [
    {
     "name": "stdout",
     "output_type": "stream",
     "text": [
      "Epoch 1/30\n",
      "360/360 [==============================] - 14s 32ms/step - loss: 0.0273 - val_loss: 3.5422e-05\n",
      "Epoch 2/30\n",
      "360/360 [==============================] - 8s 23ms/step - loss: 1.2116e-04 - val_loss: 7.9758e-05\n",
      "Epoch 3/30\n",
      "360/360 [==============================] - 10s 27ms/step - loss: 4.5248e-04 - val_loss: 1.3200e-04\n"
     ]
    },
    {
     "data": {
      "text/plain": [
       "<keras.callbacks.History at 0x7fc21fc837c0>"
      ]
     },
     "execution_count": 51,
     "metadata": {},
     "output_type": "execute_result"
    }
   ],
   "source": [
    "model.fit(generator, epochs=30, validation_data=test_generator, callbacks=[early_stop])"
   ]
  },
  {
   "cell_type": "code",
   "execution_count": 52,
   "id": "77eba7b8-5d5a-438f-8203-1fe678daee4d",
   "metadata": {},
   "outputs": [],
   "source": [
    "test_predictions = [] \n",
    "first_batch = train[-length:]\n",
    "current_batch = first_batch.reshape(1, length, 1)\n",
    "\n",
    "for i in range(len(test)):\n",
    "    current_prediction = model.predict(current_batch)[0]\n",
    "    test_predictions.append(current_prediction)\n",
    "    current_batch = np.append(current_batch[:, 1:, :], [[current_prediction]], axis = 1)"
   ]
  },
  {
   "cell_type": "code",
   "execution_count": 53,
   "id": "7a8862b5-07fd-489e-90da-dd9f0b3cecc8",
   "metadata": {},
   "outputs": [],
   "source": [
    "true_predictions = scaler.inverse_transform(test_predictions)"
   ]
  },
  {
   "cell_type": "code",
   "execution_count": 54,
   "id": "af05f2df-54c8-4f35-9783-0629c43f7970",
   "metadata": {},
   "outputs": [
    {
     "name": "stderr",
     "output_type": "stream",
     "text": [
      "/var/folders/4y/pcdt74h51_x2zz4w3hlpvzxh0000gn/T/ipykernel_14492/3403782598.py:1: SettingWithCopyWarning: \n",
      "A value is trying to be set on a copy of a slice from a DataFrame.\n",
      "Try using .loc[row_indexer,col_indexer] = value instead\n",
      "\n",
      "See the caveats in the documentation: https://pandas.pydata.org/pandas-docs/stable/user_guide/indexing.html#returning-a-view-versus-a-copy\n",
      "  test_df[\"LSTM Predictions\"] = true_predictions\n"
     ]
    }
   ],
   "source": [
    "test_df[\"LSTM Predictions\"] = true_predictions"
   ]
  },
  {
   "cell_type": "code",
   "execution_count": 55,
   "id": "9a28eed8-28ee-4ac7-8e59-88f2acea0e8c",
   "metadata": {},
   "outputs": [
    {
     "data": {
      "text/html": [
       "<div>\n",
       "<style scoped>\n",
       "    .dataframe tbody tr th:only-of-type {\n",
       "        vertical-align: middle;\n",
       "    }\n",
       "\n",
       "    .dataframe tbody tr th {\n",
       "        vertical-align: top;\n",
       "    }\n",
       "\n",
       "    .dataframe thead th {\n",
       "        text-align: right;\n",
       "    }\n",
       "</style>\n",
       "<table border=\"1\" class=\"dataframe\">\n",
       "  <thead>\n",
       "    <tr style=\"text-align: right;\">\n",
       "      <th></th>\n",
       "      <th>Sine</th>\n",
       "      <th>RNN Predictions</th>\n",
       "      <th>LSTM Predictions</th>\n",
       "    </tr>\n",
       "  </thead>\n",
       "  <tbody>\n",
       "    <tr>\n",
       "      <th>40.0</th>\n",
       "      <td>0.745113</td>\n",
       "      <td>0.748801</td>\n",
       "      <td>0.777592</td>\n",
       "    </tr>\n",
       "    <tr>\n",
       "      <th>40.1</th>\n",
       "      <td>0.674808</td>\n",
       "      <td>0.679656</td>\n",
       "      <td>0.711754</td>\n",
       "    </tr>\n",
       "    <tr>\n",
       "      <th>40.2</th>\n",
       "      <td>0.597760</td>\n",
       "      <td>0.604447</td>\n",
       "      <td>0.641440</td>\n",
       "    </tr>\n",
       "    <tr>\n",
       "      <th>40.3</th>\n",
       "      <td>0.514740</td>\n",
       "      <td>0.524474</td>\n",
       "      <td>0.566428</td>\n",
       "    </tr>\n",
       "    <tr>\n",
       "      <th>40.4</th>\n",
       "      <td>0.426577</td>\n",
       "      <td>0.437632</td>\n",
       "      <td>0.487036</td>\n",
       "    </tr>\n",
       "  </tbody>\n",
       "</table>\n",
       "</div>"
      ],
      "text/plain": [
       "          Sine  RNN Predictions  LSTM Predictions\n",
       "40.0  0.745113         0.748801          0.777592\n",
       "40.1  0.674808         0.679656          0.711754\n",
       "40.2  0.597760         0.604447          0.641440\n",
       "40.3  0.514740         0.524474          0.566428\n",
       "40.4  0.426577         0.437632          0.487036"
      ]
     },
     "execution_count": 55,
     "metadata": {},
     "output_type": "execute_result"
    }
   ],
   "source": [
    "test_df.head()"
   ]
  },
  {
   "cell_type": "code",
   "execution_count": 56,
   "id": "1b625938-c45c-403d-bf3c-f4e5f3c1696e",
   "metadata": {},
   "outputs": [
    {
     "data": {
      "text/plain": [
       "<AxesSubplot:>"
      ]
     },
     "execution_count": 56,
     "metadata": {},
     "output_type": "execute_result"
    },
    {
     "data": {
      "image/png": "[encoded data removed]",
      "text/plain": [
       "<Figure size 432x288 with 1 Axes>"
      ]
     },
     "metadata": {
      "needs_background": "light"
     },
     "output_type": "display_data"
    }
   ],
   "source": [
    "test_df.plot()"
   ]
  },
  {
   "cell_type": "code",
   "execution_count": null,
   "id": "4dcca3f7-71d0-4e65-82fb-caf977ea516f",
   "metadata": {},
   "outputs": [],
   "source": []
  }
 ],
 "metadata": {
  "kernelspec": {
   "display_name": "Python 3 (ipykernel)",
   "language": "python",
   "name": "python3"
  },
  "language_info": {
   "codemirror_mode": {
    "name": "ipython",
    "version": 3
   },
   "file_extension": ".py",
   "mimetype": "text/x-python",
   "name": "python",
   "nbconvert_exporter": "python",
   "pygments_lexer": "ipython3",
   "version": "3.9.7"
  }
 },
 "nbformat": 4,
 "nbformat_minor": 5
}
