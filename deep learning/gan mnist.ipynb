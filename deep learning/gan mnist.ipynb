{
 "cells": [
  {
   "cell_type": "code",
   "execution_count": 1,
   "id": "ad21e78a-3701-4f28-9e04-44e730493454",
   "metadata": {},
   "outputs": [],
   "source": [
    "import numpy as np\n",
    "import matplotlib.pyplot as plt"
   ]
  },
  {
   "cell_type": "code",
   "execution_count": 2,
   "id": "d4eca3da-e736-496a-a160-535633aa6e35",
   "metadata": {},
   "outputs": [],
   "source": [
    "from tensorflow.keras.datasets import mnist"
   ]
  },
  {
   "cell_type": "code",
   "execution_count": 3,
   "id": "ad343164-13ee-448b-a680-9f11786b1327",
   "metadata": {},
   "outputs": [],
   "source": [
    "(X_train, y_train), (X_test, y_test) = mnist.load_data()"
   ]
  },
  {
   "cell_type": "code",
   "execution_count": 4,
   "id": "eec34e63-9696-4922-bf3a-415bbbc6de15",
   "metadata": {},
   "outputs": [],
   "source": [
    "only_zeroes = X_train[y_train == 0]"
   ]
  },
  {
   "cell_type": "code",
   "execution_count": 5,
   "id": "b18da73f-8890-49ae-997f-9ed1f426b7d2",
   "metadata": {},
   "outputs": [
    {
     "data": {
      "text/plain": [
       "(5923, 28, 28)"
      ]
     },
     "execution_count": 5,
     "metadata": {},
     "output_type": "execute_result"
    }
   ],
   "source": [
    "only_zeroes.shape"
   ]
  },
  {
   "cell_type": "code",
   "execution_count": 6,
   "id": "7f25ff55-a2da-4f5b-a93b-44bbf312f6be",
   "metadata": {},
   "outputs": [
    {
     "data": {
      "text/plain": [
       "<matplotlib.image.AxesImage at 0x7fdd10098e50>"
      ]
     },
     "execution_count": 6,
     "metadata": {},
     "output_type": "execute_result"
    },
    {
     "data": {
      "image/png": "[encoded data removed]",
      "text/plain": [
       "<Figure size 432x288 with 1 Axes>"
      ]
     },
     "metadata": {
      "needs_background": "light"
     },
     "output_type": "display_data"
    }
   ],
   "source": [
    "plt.imshow(only_zeroes[10])"
   ]
  },
  {
   "cell_type": "code",
   "execution_count": 7,
   "id": "8517cb08-606b-48e2-ac9c-65669105ffb4",
   "metadata": {},
   "outputs": [],
   "source": [
    "import tensorflow as tf\n",
    "from tensorflow.keras.models import Sequential\n",
    "from tensorflow.keras.layers import Dense, Flatten, Reshape"
   ]
  },
  {
   "cell_type": "code",
   "execution_count": 8,
   "id": "360d2202-5bab-4afc-9eda-4ed2085d560a",
   "metadata": {},
   "outputs": [],
   "source": [
    "np.random.seed(42)\n",
    "tf.random.set_seed(42)\n",
    "\n",
    "codings_size = 100"
   ]
  },
  {
   "cell_type": "code",
   "execution_count": 9,
   "id": "1e699952-3073-4dc1-8aad-f8022987e7fc",
   "metadata": {},
   "outputs": [
    {
     "data": {
      "text/plain": [
       "784"
      ]
     },
     "execution_count": 9,
     "metadata": {},
     "output_type": "execute_result"
    }
   ],
   "source": [
    "28 * 28"
   ]
  },
  {
   "cell_type": "code",
   "execution_count": 10,
   "id": "c9ae0790-3085-4656-9f8c-d2a1189010f3",
   "metadata": {},
   "outputs": [
    {
     "name": "stderr",
     "output_type": "stream",
     "text": [
      "2022-04-27 16:43:12.325411: I tensorflow/core/platform/cpu_feature_guard.cc:151] This TensorFlow binary is optimized with oneAPI Deep Neural Network Library (oneDNN) to use the following CPU instructions in performance-critical operations:  AVX2 FMA\n",
      "To enable them in other operations, rebuild TensorFlow with the appropriate compiler flags.\n"
     ]
    }
   ],
   "source": [
    "generator = Sequential()\n",
    "generator.add(Dense(100, activation='relu', input_shape=[codings_size]))\n",
    "generator.add(Dense(150, activation='relu'))\n",
    "generator.add(Dense(784, activation='sigmoid')) # 28 * 28 = 784\n",
    "generator.add(Reshape([28, 28]))"
   ]
  },
  {
   "cell_type": "code",
   "execution_count": 11,
   "id": "974c2381-70fa-485f-a38c-a7db35e74688",
   "metadata": {},
   "outputs": [],
   "source": [
    "discriminator = Sequential()\n",
    "discriminator.add(Flatten(input_shape=[28, 28]))\n",
    "discriminator.add(Dense(150, activation='relu'))\n",
    "discriminator.add(Dense(100, activation='relu'))\n",
    "discriminator.add(Dense(1, activation='sigmoid'))\n",
    "\n",
    "discriminator.compile(loss='binary_crossentropy', optimizer='adam')"
   ]
  },
  {
   "cell_type": "code",
   "execution_count": 12,
   "id": "409038ac-872c-44a5-a7b5-5cefbb0079a4",
   "metadata": {},
   "outputs": [],
   "source": [
    "GAN = Sequential([generator, discriminator])"
   ]
  },
  {
   "cell_type": "code",
   "execution_count": 13,
   "id": "644eac06-ab4b-41b1-85e7-02e6812743b4",
   "metadata": {},
   "outputs": [],
   "source": [
    "discriminator.trainable = False"
   ]
  },
  {
   "cell_type": "code",
   "execution_count": 14,
   "id": "23591292-2634-485e-bcb4-b960f0cf6245",
   "metadata": {},
   "outputs": [],
   "source": [
    "GAN.compile(loss='binary_crossentropy', optimizer='adam')"
   ]
  },
  {
   "cell_type": "code",
   "execution_count": 15,
   "id": "34fbec63-a9b4-4b5d-b337-d492ecb0ad77",
   "metadata": {},
   "outputs": [
    {
     "data": {
      "text/plain": [
       "[<keras.engine.sequential.Sequential at 0x7fdd101b46a0>,\n",
       " <keras.engine.sequential.Sequential at 0x7fdcf1457a90>]"
      ]
     },
     "execution_count": 15,
     "metadata": {},
     "output_type": "execute_result"
    }
   ],
   "source": [
    "GAN.layers"
   ]
  },
  {
   "cell_type": "code",
   "execution_count": 16,
   "id": "d08b6fd3-6e6d-4c55-afd3-c5a5b30292f8",
   "metadata": {},
   "outputs": [
    {
     "name": "stdout",
     "output_type": "stream",
     "text": [
      "Model: \"sequential_2\"\n",
      "_________________________________________________________________\n",
      " Layer (type)                Output Shape              Param #   \n",
      "=================================================================\n",
      " sequential (Sequential)     (None, 28, 28)            143634    \n",
      "                                                                 \n",
      " sequential_1 (Sequential)   (None, 1)                 132951    \n",
      "                                                                 \n",
      "=================================================================\n",
      "Total params: 276,585\n",
      "Trainable params: 143,634\n",
      "Non-trainable params: 132,951\n",
      "_________________________________________________________________\n"
     ]
    }
   ],
   "source": [
    "GAN.summary()"
   ]
  },
  {
   "cell_type": "code",
   "execution_count": 17,
   "id": "86f44c7d-b4e5-4743-86de-b9dd21797708",
   "metadata": {},
   "outputs": [
    {
     "name": "stdout",
     "output_type": "stream",
     "text": [
      "Model: \"sequential\"\n",
      "_________________________________________________________________\n",
      " Layer (type)                Output Shape              Param #   \n",
      "=================================================================\n",
      " dense (Dense)               (None, 100)               10100     \n",
      "                                                                 \n",
      " dense_1 (Dense)             (None, 150)               15150     \n",
      "                                                                 \n",
      " dense_2 (Dense)             (None, 784)               118384    \n",
      "                                                                 \n",
      " reshape (Reshape)           (None, 28, 28)            0         \n",
      "                                                                 \n",
      "=================================================================\n",
      "Total params: 143,634\n",
      "Trainable params: 143,634\n",
      "Non-trainable params: 0\n",
      "_________________________________________________________________\n"
     ]
    }
   ],
   "source": [
    "GAN.layers[0].summary()"
   ]
  },
  {
   "cell_type": "code",
   "execution_count": 18,
   "id": "b0e161cf-ba6b-4988-807d-2c272b7009b6",
   "metadata": {},
   "outputs": [
    {
     "name": "stdout",
     "output_type": "stream",
     "text": [
      "Model: \"sequential_1\"\n",
      "_________________________________________________________________\n",
      " Layer (type)                Output Shape              Param #   \n",
      "=================================================================\n",
      " flatten (Flatten)           (None, 784)               0         \n",
      "                                                                 \n",
      " dense_3 (Dense)             (None, 150)               117750    \n",
      "                                                                 \n",
      " dense_4 (Dense)             (None, 100)               15100     \n",
      "                                                                 \n",
      " dense_5 (Dense)             (None, 1)                 101       \n",
      "                                                                 \n",
      "=================================================================\n",
      "Total params: 132,951\n",
      "Trainable params: 0\n",
      "Non-trainable params: 132,951\n",
      "_________________________________________________________________\n"
     ]
    }
   ],
   "source": [
    "GAN.layers[1].summary()"
   ]
  },
  {
   "cell_type": "code",
   "execution_count": 19,
   "id": "096fcc5b-eeaa-4858-9617-28225190904e",
   "metadata": {},
   "outputs": [],
   "source": [
    "import tensorflow as tf"
   ]
  },
  {
   "cell_type": "code",
   "execution_count": 20,
   "id": "25b81293-0688-4731-9fc6-32c4bf41b0e2",
   "metadata": {},
   "outputs": [],
   "source": [
    "batch_size = 32"
   ]
  },
  {
   "cell_type": "code",
   "execution_count": 21,
   "id": "7bb84771-663c-4f2d-8ab5-de98fd9cd8ce",
   "metadata": {},
   "outputs": [],
   "source": [
    "my_data = only_zeroes"
   ]
  },
  {
   "cell_type": "code",
   "execution_count": 22,
   "id": "2b5113bd-e003-4ed2-8a66-20bbfc11da56",
   "metadata": {},
   "outputs": [],
   "source": [
    "dataset = tf.data.Dataset.from_tensor_slices(my_data).shuffle(buffer_size=1000)"
   ]
  },
  {
   "cell_type": "code",
   "execution_count": 23,
   "id": "7a25d4b2-1635-4e36-b7bb-2e298813d9a6",
   "metadata": {},
   "outputs": [],
   "source": [
    "dataset = dataset.batch(batch_size, drop_remainder=True).prefetch(1)"
   ]
  },
  {
   "cell_type": "code",
   "execution_count": 24,
   "id": "c890d7a9-92e2-4e8b-9dd9-2bf66a404bbf",
   "metadata": {},
   "outputs": [
    {
     "name": "stdout",
     "output_type": "stream",
     "text": [
      "Currently training on batch 100 of 5923\n",
      "Training complete\n"
     ]
    }
   ],
   "source": [
    "generator, discriminator = GAN.layers\n",
    "epochs = 1\n",
    "\n",
    "for epoch in range(epochs):\n",
    "    i = 0\n",
    "    \n",
    "    for X_batch in dataset:\n",
    "        i += 1\n",
    "        if i%100 == 0:\n",
    "            print(f\"Currently training on batch {i} of {len(my_data//batch_size)}\")\n",
    "        \n",
    "        # Discriminator Training\n",
    "        noise = tf.random.normal(shape=[batch_size, codings_size])\n",
    "        gen_images = generator(noise)\n",
    "        \n",
    "        X_fake_vs_real = tf.concat([gen_images, tf.dtypes.cast(X_batch, tf.float32)], axis = 0)\n",
    "        y1 = tf.constant([[0.]] * batch_size + [[1.]] * batch_size)\n",
    "        \n",
    "        discriminator.trainable = False\n",
    "        discriminator.train_on_batch(X_fake_vs_real, y1)\n",
    "        \n",
    "        # Generator Training\n",
    "        noise = tf.random.normal(shape=[batch_size, codings_size])\n",
    "        y2 = tf.constant([[1.]] * batch_size)\n",
    "        discriminator.trainable = False\n",
    "        \n",
    "        GAN.train_on_batch(noise, y2)\n",
    "        \n",
    "print(\"Training complete\")"
   ]
  },
  {
   "cell_type": "code",
   "execution_count": 25,
   "id": "915a7a43-8f85-429b-b358-427d35184d95",
   "metadata": {},
   "outputs": [],
   "source": [
    "noise = tf.random.normal(shape=[10, 100])"
   ]
  },
  {
   "cell_type": "code",
   "execution_count": 26,
   "id": "060e3d78-4f4b-4f52-9d82-ffbc4fa03773",
   "metadata": {},
   "outputs": [
    {
     "data": {
      "text/plain": [
       "TensorShape([10, 100])"
      ]
     },
     "execution_count": 26,
     "metadata": {},
     "output_type": "execute_result"
    }
   ],
   "source": [
    "noise.shape"
   ]
  },
  {
   "cell_type": "code",
   "execution_count": 27,
   "id": "d430265e-8978-445b-ab0e-a942ae1156fb",
   "metadata": {},
   "outputs": [
    {
     "data": {
      "text/plain": [
       "<matplotlib.image.AxesImage at 0x7fdcf18a12e0>"
      ]
     },
     "execution_count": 27,
     "metadata": {},
     "output_type": "execute_result"
    },
    {
     "data": {
      "image/png": "[encoded data removed]",
      "text/plain": [
       "<Figure size 432x288 with 1 Axes>"
      ]
     },
     "metadata": {
      "needs_background": "light"
     },
     "output_type": "display_data"
    }
   ],
   "source": [
    "plt.imshow(noise)"
   ]
  },
  {
   "cell_type": "code",
   "execution_count": 28,
   "id": "33bb93c6-bdfb-429f-ac78-7cc6a4fe4c68",
   "metadata": {},
   "outputs": [],
   "source": [
    "image = generator(noise)"
   ]
  },
  {
   "cell_type": "code",
   "execution_count": 30,
   "id": "f38be924-a435-46ba-b4ce-ff95abe944df",
   "metadata": {},
   "outputs": [
    {
     "data": {
      "text/plain": [
       "TensorShape([10, 28, 28])"
      ]
     },
     "execution_count": 30,
     "metadata": {},
     "output_type": "execute_result"
    }
   ],
   "source": [
    "image.shape"
   ]
  },
  {
   "cell_type": "code",
   "execution_count": 33,
   "id": "061b97ff-40cd-4e4c-9123-d81ea53419a8",
   "metadata": {},
   "outputs": [
    {
     "data": {
      "text/plain": [
       "<matplotlib.image.AxesImage at 0x7fdcf2663fa0>"
      ]
     },
     "execution_count": 33,
     "metadata": {},
     "output_type": "execute_result"
    },
    {
     "data": {
      "image/png": "[encoded data removed]",
      "text/plain": [
       "<Figure size 432x288 with 1 Axes>"
      ]
     },
     "metadata": {
      "needs_background": "light"
     },
     "output_type": "display_data"
    }
   ],
   "source": [
    "plt.imshow(image[9])"
   ]
  },
  {
   "cell_type": "code",
   "execution_count": null,
   "id": "a8a48438-d65b-46e0-940d-692b090d2f9a",
   "metadata": {},
   "outputs": [],
   "source": []
  }
 ],
 "metadata": {
  "kernelspec": {
   "display_name": "Python 3 (ipykernel)",
   "language": "python",
   "name": "python3"
  },
  "language_info": {
   "codemirror_mode": {
    "name": "ipython",
    "version": 3
   },
   "file_extension": ".py",
   "mimetype": "text/x-python",
   "name": "python",
   "nbconvert_exporter": "python",
   "pygments_lexer": "ipython3",
   "version": "3.9.7"
  }
 },
 "nbformat": 4,
 "nbformat_minor": 5
}
