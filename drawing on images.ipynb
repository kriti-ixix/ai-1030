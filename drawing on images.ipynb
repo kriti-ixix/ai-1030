{
 "cells": [
  {
   "cell_type": "code",
   "execution_count": 2,
   "id": "3c958323-8fae-45b6-b6fd-02f7e4bc5420",
   "metadata": {},
   "outputs": [],
   "source": [
    "import cv2\n",
    "import numpy as np"
   ]
  },
  {
   "cell_type": "markdown",
   "id": "db88bc62-48dd-4ecc-b899-c8b9485dce63",
   "metadata": {},
   "source": [
    "**Drawing a rectangle**"
   ]
  },
  {
   "cell_type": "code",
   "execution_count": 3,
   "id": "c162b636-aefe-4c86-999a-8cc3dfae13f8",
   "metadata": {},
   "outputs": [
    {
     "data": {
      "text/plain": [
       "array([[0, 0, 0, 0, 0, 0, 0, 0, 0, 0],\n",
       "       [0, 0, 0, 0, 0, 0, 0, 0, 0, 0],\n",
       "       [0, 0, 0, 0, 0, 0, 0, 0, 0, 0],\n",
       "       [0, 0, 0, 0, 0, 0, 0, 0, 0, 0],\n",
       "       [0, 0, 0, 0, 0, 0, 0, 0, 0, 0],\n",
       "       [0, 0, 0, 0, 0, 0, 0, 0, 0, 0],\n",
       "       [0, 0, 0, 0, 0, 0, 0, 0, 0, 0],\n",
       "       [0, 0, 0, 0, 0, 0, 0, 0, 0, 0],\n",
       "       [0, 0, 0, 0, 0, 0, 0, 0, 0, 0],\n",
       "       [0, 0, 0, 0, 0, 0, 0, 0, 0, 0]], dtype=uint8)"
      ]
     },
     "execution_count": 3,
     "metadata": {},
     "output_type": "execute_result"
    }
   ],
   "source": [
    "arr = np.zeros((10, 10), dtype=\"uint8\")\n",
    "arr"
   ]
  },
  {
   "cell_type": "code",
   "execution_count": 14,
   "id": "645609ca-fea9-4b9e-9045-533472a3d9d5",
   "metadata": {},
   "outputs": [],
   "source": [
    "arr[3:7, 2:8] = 1"
   ]
  },
  {
   "cell_type": "code",
   "execution_count": 15,
   "id": "cf0049ca-1150-4378-bfa6-57b282865e9a",
   "metadata": {},
   "outputs": [
    {
     "data": {
      "text/plain": [
       "array([[0., 0., 0., 0., 0., 0., 0., 0., 0., 0.],\n",
       "       [0., 0., 0., 0., 0., 0., 0., 0., 0., 0.],\n",
       "       [0., 0., 0., 0., 0., 0., 0., 0., 0., 0.],\n",
       "       [0., 0., 1., 1., 1., 1., 1., 1., 0., 0.],\n",
       "       [0., 0., 1., 1., 1., 1., 1., 1., 0., 0.],\n",
       "       [0., 0., 1., 1., 1., 1., 1., 1., 0., 0.],\n",
       "       [0., 0., 1., 1., 1., 1., 1., 1., 0., 0.],\n",
       "       [0., 0., 0., 0., 0., 0., 0., 0., 0., 0.],\n",
       "       [0., 0., 0., 0., 0., 0., 0., 0., 0., 0.],\n",
       "       [0., 0., 0., 0., 0., 0., 0., 0., 0., 0.]])"
      ]
     },
     "execution_count": 15,
     "metadata": {},
     "output_type": "execute_result"
    }
   ],
   "source": [
    "arr"
   ]
  },
  {
   "cell_type": "code",
   "execution_count": 8,
   "id": "43be2f2d-ad68-4de4-b9c9-e828da0e9c44",
   "metadata": {},
   "outputs": [],
   "source": [
    "blank = np.zeros((500, 500, 3))\n",
    "\n",
    "# BGR: Blue Green and Red\n",
    "\n",
    "blank[200:300, 300:400] = 0, 0, 255\n",
    "cv2.imshow(\"Black\", blank)\n",
    "\n",
    "cv2.waitKey(5)\n",
    "cv2.destroyAllWindows()"
   ]
  },
  {
   "cell_type": "code",
   "execution_count": 3,
   "id": "55970a5f-84f6-4c7d-b4fd-0580e33669f4",
   "metadata": {},
   "outputs": [],
   "source": [
    "image = np.ones((500, 500))\n",
    "cv2.imshow(\"White\", image)\n",
    "cv2.waitKey(5)\n",
    "cv2.destroyAllWindows()"
   ]
  },
  {
   "cell_type": "code",
   "execution_count": 18,
   "id": "3b45b5e6-aa8a-4f91-afba-d37179c28985",
   "metadata": {},
   "outputs": [
    {
     "data": {
      "text/plain": [
       "-1"
      ]
     },
     "execution_count": 18,
     "metadata": {},
     "output_type": "execute_result"
    }
   ],
   "source": [
    "rectangle_img = cv2.rectangle(blank, (50, 100), (300, 300), (255, 0, 0), 3)\n",
    "cv2.imshow(\"Rectangle\", rectangle_img)\n",
    "cv2.waitKey(5)"
   ]
  },
  {
   "cell_type": "markdown",
   "id": "68ce4a70-1773-4027-804c-f9b129e0eb76",
   "metadata": {},
   "source": [
    "**Drawing Circles**"
   ]
  },
  {
   "cell_type": "code",
   "execution_count": 20,
   "id": "e5e97a93-419f-4fc1-ab59-c1528f9f2c7f",
   "metadata": {},
   "outputs": [
    {
     "data": {
      "text/plain": [
       "-1"
      ]
     },
     "execution_count": 20,
     "metadata": {},
     "output_type": "execute_result"
    }
   ],
   "source": [
    "circle_image = cv2.circle(blank, (300, 300), 50, (0, 255, 0), -1)\n",
    "cv2.imshow(\"Circle\", circle_image)\n",
    "cv2.waitKey(5)"
   ]
  },
  {
   "cell_type": "markdown",
   "id": "787334ce-5402-4f00-b089-5d4356d9a9bf",
   "metadata": {},
   "source": [
    "**Drawing Lines**"
   ]
  },
  {
   "cell_type": "code",
   "execution_count": 21,
   "id": "3ca3605d-b524-4f79-a7a6-87b6a402813f",
   "metadata": {},
   "outputs": [
    {
     "data": {
      "text/plain": [
       "-1"
      ]
     },
     "execution_count": 21,
     "metadata": {},
     "output_type": "execute_result"
    }
   ],
   "source": [
    "line_img = cv2.line(blank, (150, 200), (3, 10), (255, 255, 255), 5)\n",
    "cv2.imshow(\"Line\", line_img)\n",
    "cv2.waitKey(5)"
   ]
  },
  {
   "cell_type": "markdown",
   "id": "6b3653ab-9af1-49db-9302-181395171b7e",
   "metadata": {},
   "source": [
    "**Putting Text**"
   ]
  },
  {
   "cell_type": "code",
   "execution_count": 5,
   "id": "5fc0a457-bca0-494d-bd8f-fbf00930a56b",
   "metadata": {},
   "outputs": [
    {
     "data": {
      "text/plain": [
       "-1"
      ]
     },
     "execution_count": 5,
     "metadata": {},
     "output_type": "execute_result"
    }
   ],
   "source": [
    "blank = np.zeros((500, 500, 3), dtype=\"uint8\")\n",
    "\n",
    "text = \"Hi!\"\n",
    "start_point = (100, 100)\n",
    "font = cv2.FONT_HERSHEY_TRIPLEX\n",
    "font_scale = 1\n",
    "colour = (255, 0, 255)\n",
    "thickness = 3\n",
    "\n",
    "cv2.putText(blank, text, start_point, font, font_scale, colour, thickness)\n",
    "cv2.imshow(\"Message\", blank)\n",
    "cv2.waitKey(5)"
   ]
  },
  {
   "cell_type": "code",
   "execution_count": null,
   "id": "a6e58a28-e7ad-40a3-9dc7-d1ad299c4dd3",
   "metadata": {},
   "outputs": [],
   "source": [
    "# Canny Edge Detection"
   ]
  }
 ],
 "metadata": {
  "kernelspec": {
   "display_name": "Python 3 (ipykernel)",
   "language": "python",
   "name": "python3"
  },
  "language_info": {
   "codemirror_mode": {
    "name": "ipython",
    "version": 3
   },
   "file_extension": ".py",
   "mimetype": "text/x-python",
   "name": "python",
   "nbconvert_exporter": "python",
   "pygments_lexer": "ipython3",
   "version": "3.9.7"
  }
 },
 "nbformat": 4,
 "nbformat_minor": 5
}
